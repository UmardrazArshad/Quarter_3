{
  "nbformat": 4,
  "nbformat_minor": 0,
  "metadata": {
    "colab": {
      "provenance": [],
      "authorship_tag": "ABX9TyPtk2hdifEX/b7A9BhVl6sQ",
      "include_colab_link": true
    },
    "kernelspec": {
      "name": "python3",
      "display_name": "Python 3"
    },
    "language_info": {
      "name": "python"
    }
  },
  "cells": [
    {
      "cell_type": "markdown",
      "metadata": {
        "id": "view-in-github",
        "colab_type": "text"
      },
      "source": [
        "<a href=\"https://colab.research.google.com/github/UmardrazArshad/Quarter_3/blob/main/04_Agent_as_tool.ipynb\" target=\"_parent\"><img src=\"https://colab.research.google.com/assets/colab-badge.svg\" alt=\"Open In Colab\"/></a>"
      ]
    },
    {
      "cell_type": "code",
      "source": [
        "!pip install -Uq openai-agents tavily-python"
      ],
      "metadata": {
        "colab": {
          "base_uri": "https://localhost:8080/"
        },
        "id": "BpvmZKvtsS_3",
        "outputId": "b4cb2184-3ced-4cf8-db97-3bed65cf4d0a"
      },
      "execution_count": null,
      "outputs": [
        {
          "output_type": "stream",
          "name": "stdout",
          "text": [
            "\u001b[?25l   \u001b[90m━━━━━━━━━━━━━━━━━━━━━━━━━━━━━━━━━━━━━━━━\u001b[0m \u001b[32m0.0/116.9 kB\u001b[0m \u001b[31m?\u001b[0m eta \u001b[36m-:--:--\u001b[0m\r\u001b[2K   \u001b[90m━━━━━━━━━━━━━━━━━━━━━━━━━━━━━━━━━━━━━━━━\u001b[0m \u001b[32m116.9/116.9 kB\u001b[0m \u001b[31m4.7 MB/s\u001b[0m eta \u001b[36m0:00:00\u001b[0m\n",
            "\u001b[?25h\u001b[?25l   \u001b[90m━━━━━━━━━━━━━━━━━━━━━━━━━━━━━━━━━━━━━━━━\u001b[0m \u001b[32m0.0/129.3 kB\u001b[0m \u001b[31m?\u001b[0m eta \u001b[36m-:--:--\u001b[0m\r\u001b[2K   \u001b[90m━━━━━━━━━━━━━━━━━━━━━━━━━━━━━━━━━━━━━━━━\u001b[0m \u001b[32m129.3/129.3 kB\u001b[0m \u001b[31m6.5 MB/s\u001b[0m eta \u001b[36m0:00:00\u001b[0m\n",
            "\u001b[?25h\u001b[?25l   \u001b[90m━━━━━━━━━━━━━━━━━━━━━━━━━━━━━━━━━━━━━━━━\u001b[0m \u001b[32m0.0/119.5 kB\u001b[0m \u001b[31m?\u001b[0m eta \u001b[36m-:--:--\u001b[0m\r\u001b[2K   \u001b[90m━━━━━━━━━━━━━━━━━━━━━━━━━━━━━━━━━━━━━━━━\u001b[0m \u001b[32m119.5/119.5 kB\u001b[0m \u001b[31m7.5 MB/s\u001b[0m eta \u001b[36m0:00:00\u001b[0m\n",
            "\u001b[2K   \u001b[90m━━━━━━━━━━━━━━━━━━━━━━━━━━━━━━━━━━━━━━━━\u001b[0m \u001b[32m1.2/1.2 MB\u001b[0m \u001b[31m24.6 MB/s\u001b[0m eta \u001b[36m0:00:00\u001b[0m\n",
            "\u001b[2K   \u001b[90m━━━━━━━━━━━━━━━━━━━━━━━━━━━━━━━━━━━━━━━━\u001b[0m \u001b[32m44.4/44.4 kB\u001b[0m \u001b[31m2.9 MB/s\u001b[0m eta \u001b[36m0:00:00\u001b[0m\n",
            "\u001b[2K   \u001b[90m━━━━━━━━━━━━━━━━━━━━━━━━━━━━━━━━━━━━━━━━\u001b[0m \u001b[32m72.0/72.0 kB\u001b[0m \u001b[31m4.5 MB/s\u001b[0m eta \u001b[36m0:00:00\u001b[0m\n",
            "\u001b[2K   \u001b[90m━━━━━━━━━━━━━━━━━━━━━━━━━━━━━━━━━━━━━━━━\u001b[0m \u001b[32m62.5/62.5 kB\u001b[0m \u001b[31m3.4 MB/s\u001b[0m eta \u001b[36m0:00:00\u001b[0m\n",
            "\u001b[?25h"
          ]
        }
      ]
    },
    {
      "cell_type": "code",
      "source": [
        "import nest_asyncio\n",
        "nest_asyncio.apply()"
      ],
      "metadata": {
        "id": "JBRSAl69sV7H"
      },
      "execution_count": null,
      "outputs": []
    },
    {
      "cell_type": "code",
      "source": [
        "import os\n",
        "from agents import Agent, Runner, AsyncOpenAI, OpenAIChatCompletionsModel\n",
        "from google.colab import userdata\n",
        "\n",
        "gemini_api_key = userdata.get(\"GEMINI_API_KEY\")\n",
        "search_api_key = userdata.get(\"TAVILY_API_KEY\")\n",
        "\n",
        "#Reference: https://ai.google.dev/gemini-api/docs/openai\n",
        "external_client = AsyncOpenAI(\n",
        "    api_key=gemini_api_key,\n",
        "    base_url=\"https://generativelanguage.googleapis.com/v1beta/openai/\",\n",
        ")\n",
        "\n",
        "model = OpenAIChatCompletionsModel(\n",
        "    model=\"gemini-2.0-flash\",\n",
        "    openai_client=external_client\n",
        ")"
      ],
      "metadata": {
        "id": "6W45yUvTscrG"
      },
      "execution_count": null,
      "outputs": []
    },
    {
      "cell_type": "code",
      "source": [
        "from agents import set_default_openai_client, set_tracing_disabled\n",
        "set_default_openai_client(external_client)\n",
        "set_tracing_disabled(True)"
      ],
      "metadata": {
        "id": "-J_T6cwl1Rh3"
      },
      "execution_count": null,
      "outputs": []
    },
    {
      "cell_type": "code",
      "source": [
        "from agents import set_tracing_disabled\n",
        "\n",
        "set_tracing_disabled(True)"
      ],
      "metadata": {
        "id": "5LhEhDccsnjn"
      },
      "execution_count": null,
      "outputs": []
    },
    {
      "cell_type": "code",
      "source": [
        "Web_dev_agent = Agent(\n",
        "    \"\"\" This agent for web development tasks\"\"\",\n",
        "    # name=\"web dev agent\",\n",
        "    instructions=\"You are a web_development agent for web development task.\",\n",
        "    model=model,\n",
        ")\n",
        "\n",
        "Agentic_AI_agent = Agent(\n",
        "    \"\"\"This agnet can create ai agents to automate tasks.\"\"\",\n",
        "    # name=\"Agentic_AI_agent\",\n",
        "    instructions=\"You are a Agnetic ai agent to create ai agents for to automate tasks.\",\n",
        "    model=model,\n",
        ")\n",
        "\n",
        "Mobile_app_dev_agent = Agent(\n",
        "    \"\"\" this agnets can make mobile applications\"\"\",\n",
        "    # name=\"Mobile app dev agent\",\n",
        "    instructions=\"You are a Mobile_app_dev_agent agent for Mobile application development tasks.\",\n",
        "    model=model,\n",
        ")"
      ],
      "metadata": {
        "id": "KfZ6Jzvi8XvN"
      },
      "execution_count": null,
      "outputs": []
    },
    {
      "cell_type": "code",
      "execution_count": null,
      "metadata": {
        "id": "JcRZ1Baw4yiZ"
      },
      "outputs": [],
      "source": [
        "Panacloud_Agent = Agent(   #orchestrator_agent\n",
        "    \"\"\"  \"\"\",\n",
        "    # name=\"Panacloud_Agent\",\n",
        "    instructions=\"you have to handoff task to other agent according to the task niche.\",\n",
        "    tools=[\n",
        "        Web_dev_agent.as_tool(\n",
        "            tool_name=\"Web_dev_agent\",\n",
        "            tool_description=\"this agent can done web development tasks.\",\n",
        "        ),\n",
        "        Agentic_AI_agent.as_tool(\n",
        "            tool_name=\"Agentic_AI_agent\",\n",
        "            tool_description=\"this agent can make ai agent to automate tasks.\",\n",
        "        ),\n",
        "        Mobile_app_dev_agent.as_tool(\n",
        "            tool_name=\"Mobile_app_dev_agent\",\n",
        "            tool_description=\"this agent can make mobile app\",\n",
        "        ),\n",
        "    ],\n",
        "    model=model,\n",
        "    handoffs=[Agentic_AI_agent,Mobile_app_dev_agent,Web_dev_agent]\n",
        ")"
      ]
    },
    {
      "cell_type": "code",
      "source": [
        "response = Runner.run_sync(Panacloud_Agent,\"I want to build web application.\")\n",
        "print (f\"{Panacloud_Agent.name}\\n\\n\\n{response.final_output}\")"
      ],
      "metadata": {
        "id": "qV236sJT81Uj",
        "colab": {
          "base_uri": "https://localhost:8080/"
        },
        "outputId": "fe910ceb-4eec-4811-ddff-2083bc0bd101"
      },
      "execution_count": null,
      "outputs": [
        {
          "output_type": "stream",
          "name": "stdout",
          "text": [
            "  \n",
            "\n",
            "\n",
            "Okay, great! I can help you with building your web application. To give you the best guidance, I need some information about your project. Please tell me about:\n",
            "\n",
            "**1. The Purpose of the Application:**\n",
            "\n",
            "*   What problem does it solve?\n",
            "*   What are the main goals of the application?\n",
            "*   Who is your target audience?\n",
            "\n",
            "**2. Key Features:**\n",
            "\n",
            "*   What are the core functionalities that the application *must* have?\n",
            "*   What \"nice-to-have\" features are you considering?\n",
            "\n",
            "**3. Technical Requirements (if known):**\n",
            "\n",
            "*   Do you have any specific technology preferences (e.g., React, Angular, Vue.js for the frontend; Node.js, Python/Django, Ruby on Rails for the backend; specific database)?\n",
            "*   Do you need it to be responsive (work well on different devices)?\n",
            "*   Are there any security or performance requirements?\n",
            "*   Do you have any existing infrastructure or services you want to integrate with?\n",
            "\n",
            "**4. Design & User Interface (UI):**\n",
            "\n",
            "*   Do you have any branding guidelines or a specific design style in mind?\n",
            "*   Do you have mockups or wireframes?\n",
            "*   Do you need help with UI/UX design?\n",
            "\n",
            "**5. Timeline and Budget:**\n",
            "\n",
            "*   What's your desired launch date?\n",
            "*   What's your budget for development? (This helps determine the scope and technology choices).\n",
            "\n",
            "**6. Your Role:**\n",
            "\n",
            "*   What will your role be in the development process? (e.g., project manager, content provider, tester).\n",
            "*   Do you have any technical expertise yourself?\n",
            "\n",
            "Once I have a better understanding of your needs, I can help you with:\n",
            "\n",
            "*   **Choosing the right technologies:** I can advise on the best technology stack for your project based on your requirements and budget.\n",
            "*   **Planning the architecture:** I can help you design the structure of your application, including the frontend, backend, and database.\n",
            "*   **Breaking down the project into tasks:** I can help you create a roadmap for development, breaking the project down into smaller, manageable tasks.\n",
            "*   **Suggesting resources and tools:** I can recommend libraries, frameworks, and other tools to speed up development.\n",
            "*   **Providing code examples (in some cases):** While I can't build the entire application for you, I can provide code snippets to help you get started with specific features.\n",
            "*   **Suggesting hosting and deployment options.**\n",
            "*   **Suggesting project management tools.**\n",
            "\n",
            "I'm looking forward to hearing more about your project!\n",
            "\n"
          ]
        }
      ]
    }
  ]
}