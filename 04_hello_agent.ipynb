{
  "nbformat": 4,
  "nbformat_minor": 0,
  "metadata": {
    "colab": {
      "provenance": [],
      "authorship_tag": "ABX9TyNs7S1i1VfwQMTwWVBaIFdM",
      "include_colab_link": true
    },
    "kernelspec": {
      "name": "python3",
      "display_name": "Python 3"
    },
    "language_info": {
      "name": "python"
    }
  },
  "cells": [
    {
      "cell_type": "markdown",
      "metadata": {
        "id": "view-in-github",
        "colab_type": "text"
      },
      "source": [
        "<a href=\"https://colab.research.google.com/github/UmardrazArshad/Quarter_3/blob/main/04_hello_agent.ipynb\" target=\"_parent\"><img src=\"https://colab.research.google.com/assets/colab-badge.svg\" alt=\"Open In Colab\"/></a>"
      ]
    },
    {
      "cell_type": "code",
      "execution_count": 1,
      "metadata": {
        "colab": {
          "base_uri": "https://localhost:8080/"
        },
        "id": "mHJm-3rVKDfi",
        "outputId": "535a737b-12bb-4755-9dba-1f0d7a872bb6"
      },
      "outputs": [
        {
          "output_type": "stream",
          "name": "stdout",
          "text": [
            "\u001b[?25l   \u001b[90m━━━━━━━━━━━━━━━━━━━━━━━━━━━━━━━━━━━━━━━━\u001b[0m \u001b[32m0.0/121.9 kB\u001b[0m \u001b[31m?\u001b[0m eta \u001b[36m-:--:--\u001b[0m\r\u001b[2K   \u001b[90m━━━━━━━━━━━━━━━━━━━━━━━━━━━━━━━━━━━━━━━━\u001b[0m \u001b[32m121.9/121.9 kB\u001b[0m \u001b[31m5.2 MB/s\u001b[0m eta \u001b[36m0:00:00\u001b[0m\n",
            "\u001b[?25h\u001b[?25l   \u001b[90m━━━━━━━━━━━━━━━━━━━━━━━━━━━━━━━━━━━━━━━━\u001b[0m \u001b[32m0.0/129.3 kB\u001b[0m \u001b[31m?\u001b[0m eta \u001b[36m-:--:--\u001b[0m\r\u001b[2K   \u001b[90m━━━━━━━━━━━━━━━━━━━━━━━━━━━━━━━━━━━━━━━━\u001b[0m \u001b[32m129.3/129.3 kB\u001b[0m \u001b[31m10.4 MB/s\u001b[0m eta \u001b[36m0:00:00\u001b[0m\n",
            "\u001b[2K   \u001b[90m━━━━━━━━━━━━━━━━━━━━━━━━━━━━━━━━━━━━━━━━\u001b[0m \u001b[32m131.1/131.1 kB\u001b[0m \u001b[31m9.3 MB/s\u001b[0m eta \u001b[36m0:00:00\u001b[0m\n",
            "\u001b[2K   \u001b[90m━━━━━━━━━━━━━━━━━━━━━━━━━━━━━━━━━━━━━━━━\u001b[0m \u001b[32m44.4/44.4 kB\u001b[0m \u001b[31m2.3 MB/s\u001b[0m eta \u001b[36m0:00:00\u001b[0m\n",
            "\u001b[?25h"
          ]
        }
      ],
      "source": [
        "!pip install -q openai-agents"
      ]
    },
    {
      "cell_type": "code",
      "source": [
        "import nest_asyncio\n",
        "nest_asyncio.apply()"
      ],
      "metadata": {
        "id": "hZbk0wO_LLu_"
      },
      "execution_count": 2,
      "outputs": []
    },
    {
      "cell_type": "markdown",
      "source": [
        "## **Run Google Gemini with OPENAI-Agent SDK**"
      ],
      "metadata": {
        "id": "pTkI1J7FPUlT"
      }
    },
    {
      "cell_type": "code",
      "source": [
        "from google.colab import userdata\n",
        "GEMINI_API_KEY = userdata.get('GEMINI_API_KEY')"
      ],
      "metadata": {
        "id": "jnfZFDi3KP6d"
      },
      "execution_count": 3,
      "outputs": []
    },
    {
      "cell_type": "code",
      "source": [
        "from agents import Agent, Runner, OpenAIChatCompletionsModel, enable_verbose_stdout_logging,AsyncOpenAI\n",
        "from agents.run import RunConfig\n",
        "\n",
        "# set external_llm(Gemini)\n",
        "external_client = AsyncOpenAI(\n",
        "    api_key = GEMINI_API_KEY,\n",
        "    base_url=\"https://generativelanguage.googleapis.com/v1beta/openai/\",\n",
        ")\n",
        "\n",
        "# model\n",
        "model = OpenAIChatCompletionsModel(\n",
        "    model=\"gemini-1.5-flash\",\n",
        "    openai_client=external_client, #Assignt openai_client with any external llm (Gemini)\n",
        ")\n",
        "\n",
        "#Configuration (optional)\n",
        "config = RunConfig(\n",
        "    model=model,\n",
        "    model_provider=external_client,\n",
        "    tracing_disabled=True\n",
        ")"
      ],
      "metadata": {
        "id": "dfKP9zyUKtdM"
      },
      "execution_count": 4,
      "outputs": []
    },
    {
      "cell_type": "markdown",
      "source": [
        "## **Hello world code | method one**"
      ],
      "metadata": {
        "id": "HJvY8AKmPgaI"
      }
    },
    {
      "cell_type": "code",
      "source": [
        "# Agent\n",
        "agent : Agent = Agent(\n",
        "    name = \"Assistant\",\n",
        "    instructions= \"You are a helpfull Assistant\",\n",
        "    model=model,\n",
        ")\n",
        "\n",
        "# Runner\n",
        "# Async: Non-blocking, allows other tasks to run\n",
        "result = await Runner.run(agent, \"Hi\")  # Waits for result but frees up thread for other tasks\n",
        "print (result.final_output)"
      ],
      "metadata": {
        "colab": {
          "base_uri": "https://localhost:8080/"
        },
        "id": "x7LmcNAzPdiO",
        "outputId": "5aeb9512-905d-42ac-f722-25884338674e"
      },
      "execution_count": 5,
      "outputs": [
        {
          "output_type": "stream",
          "name": "stdout",
          "text": [
            "Hi there! How can I help you today?\n",
            "\n"
          ]
        }
      ]
    },
    {
      "cell_type": "markdown",
      "source": [
        "## **Hello world code | method two**"
      ],
      "metadata": {
        "id": "Rs90vELyPkKO"
      }
    },
    {
      "cell_type": "code",
      "source": [
        "import asyncio\n",
        "\n",
        "async def main():\n",
        "    # Agent\n",
        "    agent : Agent = Agent(\n",
        "        name = \"Assistant\",\n",
        "        instructions= \"You are a helpfull Assistant\",\n",
        "        model=model,\n",
        "    )\n",
        "\n",
        "    # Runner\n",
        "    # Sync: Blocking, waits for completion\n",
        "    result = Runner.run_sync(agent, \"Hi\")  # Halts execution until result is returnedprint (Result.final_output)\n",
        "    print (result.final_output)\n",
        "asyncio.run(main())"
      ],
      "metadata": {
        "colab": {
          "base_uri": "https://localhost:8080/"
        },
        "id": "lOTtCxIMPozT",
        "outputId": "11aa7055-f68a-4eb6-e29d-12e7504da2e4"
      },
      "execution_count": 6,
      "outputs": [
        {
          "output_type": "stream",
          "name": "stdout",
          "text": [
            "Hi there! How can I help you today?\n",
            "\n"
          ]
        }
      ]
    },
    {
      "cell_type": "markdown",
      "source": [
        "## **Agent Level Custom model configuration**"
      ],
      "metadata": {
        "id": "-5GUrzjAX7nY"
      }
    },
    {
      "cell_type": "code",
      "source": [
        "from agents import Agent, Runner, function_tool, set_tracing_disabled\n",
        "BASE_URL =\"https://generativelanguage.googleapis.com/v1beta/openai/\"\n",
        "API_KEY =userdata.get(\"GEMINI_API_KEY\")\n",
        "MODEL_NAME =\"gemini-2.0-flash\"\n",
        "\n",
        "client = AsyncOpenAI(\n",
        "    base_url=BASE_URL,\n",
        "    api_key=API_KEY\n",
        ")\n",
        "\n",
        "set_tracing_disabled(disabled=True)\n",
        "\n",
        "async def main():\n",
        "    # This agent will use the custom LLM provider\n",
        "    agent = Agent(\n",
        "        name=\"Assistant\",\n",
        "        instructions=\"You only respond in haikus.\",\n",
        "        model=OpenAIChatCompletionsModel(model=MODEL_NAME, openai_client=client),\n",
        "    )\n",
        "\n",
        "    result = await Runner.run(agent, \"Who is the founder of Pakistan?\")\n",
        "    print(result.final_output)\n",
        "\n",
        "\n",
        "asyncio.run(main())"
      ],
      "metadata": {
        "colab": {
          "base_uri": "https://localhost:8080/"
        },
        "id": "HpISTGa7aNfz",
        "outputId": "4d8d52be-2969-48d2-9e9b-7844e5a514a5"
      },
      "execution_count": 9,
      "outputs": [
        {
          "output_type": "stream",
          "name": "stdout",
          "text": [
            "Jinnah, the leader,\n",
            "Founded Pakistan with dreams,\n",
            "A nation was born.\n",
            "\n"
          ]
        }
      ]
    },
    {
      "cell_type": "markdown",
      "source": [
        "## **Set Model(LLM) configration on Global level**"
      ],
      "metadata": {
        "id": "PciLMGkJcBKO"
      }
    },
    {
      "cell_type": "code",
      "source": [
        "from agents import Agent, Runner, function_tool, set_default_openai_api, set_default_openai_client, set_tracing_disabled\n",
        "\n",
        "BASE_URL =\"https://generativelanguage.googleapis.com/v1beta/openai/\"\n",
        "API_KEY =userdata.get(\"GEMINI_API_KEY\")\n",
        "MODEL_NAME =\"gemini-2.0-flash\"\n",
        "\n",
        "client = AsyncOpenAI(\n",
        "    base_url=BASE_URL,\n",
        "    api_key=API_KEY\n",
        ")\n",
        "\n",
        "set_default_openai_client(client=client, use_for_tracing=False)\n",
        "set_default_openai_api(\"chat_completions\")\n",
        "set_tracing_disabled(disabled=True)\n",
        "\n",
        "@function_tool\n",
        "def Get_Weather(city: str) -> str:\n",
        "    return f\"The weather in {city} is sunny\"\n",
        "\n",
        "async def main():\n",
        "    # This agent will use the custom LLM provider\n",
        "    agent = Agent(\n",
        "        name=\"Assistant\",\n",
        "        instructions=\"You only respond in haikus.\",\n",
        "        model=MODEL_NAME,\n",
        "        tools=[Get_Weather],\n",
        "    )\n",
        "\n",
        "    result = await Runner.run(agent, \"Whats the weather in kasur\")\n",
        "    print(result.final_output)\n",
        "\n",
        "\n",
        "asyncio.run(main())"
      ],
      "metadata": {
        "colab": {
          "base_uri": "https://localhost:8080/"
        },
        "id": "xf9XkKLRb9Mr",
        "outputId": "60e748e5-6f5f-4c06-a7f4-c4a0587d096f"
      },
      "execution_count": 13,
      "outputs": [
        {
          "output_type": "stream",
          "name": "stdout",
          "text": [
            "The sun shines brightly\n",
            "In Kasur, a lovely day\n",
            "Enjoy the weather\n",
            "\n"
          ]
        }
      ]
    }
  ]
}